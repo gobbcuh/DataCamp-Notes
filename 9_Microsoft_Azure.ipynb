{
  "nbformat": 4,
  "nbformat_minor": 0,
  "metadata": {
    "colab": {
      "provenance": [],
      "authorship_tag": "ABX9TyO8rbQAS5CjpY6VmyH0KecX",
      "include_colab_link": true
    },
    "kernelspec": {
      "name": "python3",
      "display_name": "Python 3"
    },
    "language_info": {
      "name": "python"
    }
  },
  "cells": [
    {
      "cell_type": "markdown",
      "metadata": {
        "id": "view-in-github",
        "colab_type": "text"
      },
      "source": [
        "<a href=\"https://colab.research.google.com/github/gobbcuh/DataCamp-Notes/blob/main/9_Microsoft_Azure.ipynb\" target=\"_parent\"><img src=\"https://colab.research.google.com/assets/colab-badge.svg\" alt=\"Open In Colab\"/></a>"
      ]
    },
    {
      "cell_type": "markdown",
      "source": [
        "## **Microsoft Azure**\n",
        "\n",
        "---"
      ],
      "metadata": {
        "id": "L7bk72BcYjis"
      }
    },
    {
      "cell_type": "markdown",
      "source": [
        "### **Azure and Market Position**\n",
        "- **Microsoft Azure** began by adapting existing software (Microsoft Office, Windows Server, SQL Server) to the cloud.\n",
        "- Tight integration with Microsoft products makes it the natural choice for existing Microsoft customers.\n",
        "- As of 2023, Azure was the **second-largest cloud provider with 24% market share**, behind AWS."
      ],
      "metadata": {
        "id": "Gm8bmPlTYnpC"
      }
    },
    {
      "cell_type": "markdown",
      "source": [
        "### **Azure Cloud Services**\n",
        "- **Azure Blob Storage:** File storage.\n",
        "- **Azure Virtual Machines:** Computing power.\n",
        "- **Azure SQL Database:** Cloud-based database management."
      ],
      "metadata": {
        "id": "xqqBB4okZ9Gc"
      }
    },
    {
      "cell_type": "markdown",
      "source": [
        "### **Microsoft Fabric**\n",
        "- A **Software-as-a-Service (SaaS)** solution that integrates multiple Microsoft tools.\n",
        "- Covers **data movement, data science, real-time analytics,** and **business intelligence.**\n",
        "- Expected to be a major offering for Microsoft."
      ],
      "metadata": {
        "id": "j5Nm11pAaIvj"
      }
    },
    {
      "cell_type": "markdown",
      "source": [
        "### **Azure Data Services**\n",
        "- **Data Lake Storage:** Stores raw data before processing.\n",
        "- **Stream Analytics:** Enables real-time analytics.\n",
        "- **Machine Learning:** Supports training and deploying ML models.\n",
        "\n",
        "### **Major Azure Customers**\n",
        "- Siemens\n",
        "- The World Bank\n",
        "- L'Oréal"
      ],
      "metadata": {
        "id": "Md_x2CEUaYJx"
      }
    },
    {
      "cell_type": "markdown",
      "source": [
        "### **Azure Case Study: The Ottawa Hospital**\n",
        "**Challenge:**\n",
        "- The Ottawa Hospital, which serves 1.2 million people, needed to modernize its electronic health records system.\n",
        "- Needed efficient data sharing across multiple sites and partner networks.\n",
        "- On-premises disaster recovery was too expensive.\n",
        "\n",
        "**Solution:**\n",
        "- Used **Azure Infrastructure-as-a-Service (IaaS)** to build a scalable, secure cloud system.\n",
        "- Implemented **Azure Storage** for medical image data.\n",
        "- Used **Azure Site Recovery** to automate disaster recovery processes.\n",
        "\n",
        "**Results:**\n",
        "- Continuous synchronization with on-premises databases.\n",
        "- 700 terabytes of data backed up, supporting 5,300 concurrent users.\n",
        "- Met Canadian data privacy laws (Personal Health Information Protection Act).\n",
        "- 50% cost savings on disaster recovery.\n",
        "- Project completed in under three months."
      ],
      "metadata": {
        "id": "GBaq8ziAaoon"
      }
    }
  ]
}