{
  "nbformat": 4,
  "nbformat_minor": 0,
  "metadata": {
    "colab": {
      "provenance": [],
      "authorship_tag": "ABX9TyNCO2p+TQ1O3lyYUbemGLP+",
      "include_colab_link": true
    },
    "kernelspec": {
      "name": "python3",
      "display_name": "Python 3"
    },
    "language_info": {
      "name": "python"
    }
  },
  "cells": [
    {
      "cell_type": "markdown",
      "metadata": {
        "id": "view-in-github",
        "colab_type": "text"
      },
      "source": [
        "<a href=\"https://colab.research.google.com/github/gobbcuh/DataCamp-Notes/blob/main/3_Cloud_Service_Models.ipynb\" target=\"_parent\"><img src=\"https://colab.research.google.com/assets/colab-badge.svg\" alt=\"Open In Colab\"/></a>"
      ]
    },
    {
      "cell_type": "markdown",
      "source": [
        "## **Cloud Service Models**\n",
        "\n",
        "---"
      ],
      "metadata": {
        "id": "0A87LWr0ypvY"
      }
    },
    {
      "cell_type": "markdown",
      "source": [
        "### **Overview**\n",
        "\n",
        "**Cloud computing** offers different service models that vary in the level of control and convenience. The three main models are:\n",
        "\n",
        "**1. Infrastructure as a Service (IaaS)**\n",
        "\n",
        "**2. Platform as a Service (PaaS)**\n",
        "\n",
        "**3. Software as a Service (SaaS)**"
      ],
      "metadata": {
        "id": "RjzniaaMyypY"
      }
    },
    {
      "cell_type": "markdown",
      "source": [
        "### **Cloud Models Compared to Transportation**\n",
        "\n",
        "**1. On-Premise (Owning a Car)**\n",
        "- You handle everything: maintenance, insurance, fuel, parking, and driving.\n",
        "- Full control, but costly and requires constant upkeep.\n",
        "\n",
        "**2. IaaS (Renting a Car)**\n",
        "- The provider supplies the infrastructure (networking, storage, servers), but you manage everything else.\n",
        "\n",
        "  ***Example:*** AWS EC2, Google Cloud Compute Engine.\n",
        "\n",
        "**3. PaaS (Ride-Sharing like Uber)**\n",
        "- Includes everything in IaaS plus tools for building applications (operating system, middleware).\n",
        "- The provider handles infrastructure and runtime management.\n",
        "\n",
        "  ***Example:*** Google App Engine, AWS Elastic Beanstalk.\n",
        "\n",
        "**4. SaaS (Taking a Bus)**\n",
        "- Everything is managed for you; you just log in and use the software.\n",
        "- No need for setup or maintenance.\n",
        "\n",
        "  ***Example:*** Google Workspace, Dropbox, Office 365."
      ],
      "metadata": {
        "id": "epYDPWrO0YGx"
      }
    },
    {
      "cell_type": "markdown",
      "source": [
        "### **Additional Cloud Models**\n",
        "\n",
        "**1. Function as a Service (FaaS) / Serverless Computing**\n",
        "- Runs functions without managing servers.\n",
        "- Used for tasks like payment processing and user authentication.\n",
        "- You only pay for what you use.\n",
        "\n",
        "**2. XaaS (Anything as a Service)**\n",
        "- Covers a wide range of cloud services, from databases to disaster recovery."
      ],
      "metadata": {
        "id": "EB3nTLK51Lzu"
      }
    },
    {
      "cell_type": "markdown",
      "source": [
        "### **Summary**\n",
        "- **IaaS:** Scalable infrastructure, managed by system administrators.\n",
        "- **PaaS:** Full development environment, saving developers time.\n",
        "- **SaaS:** Ready-to-use software, requiring no installation or maintenance.\n",
        "- **FaaS/XaaS:** Expanding cloud solutions for more efficiency and flexibility."
      ],
      "metadata": {
        "id": "7WwpBmVC1doZ"
      }
    }
  ]
}