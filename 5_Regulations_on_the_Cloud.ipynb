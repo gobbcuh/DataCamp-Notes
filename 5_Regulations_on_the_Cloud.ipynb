{
  "nbformat": 4,
  "nbformat_minor": 0,
  "metadata": {
    "colab": {
      "provenance": [],
      "authorship_tag": "ABX9TyNQI522ycmlMqjwOYbHgfqQ",
      "include_colab_link": true
    },
    "kernelspec": {
      "name": "python3",
      "display_name": "Python 3"
    },
    "language_info": {
      "name": "python"
    }
  },
  "cells": [
    {
      "cell_type": "markdown",
      "metadata": {
        "id": "view-in-github",
        "colab_type": "text"
      },
      "source": [
        "<a href=\"https://colab.research.google.com/github/gobbcuh/DataCamp-Notes/blob/main/5_Regulations_on_the_Cloud.ipynb\" target=\"_parent\"><img src=\"https://colab.research.google.com/assets/colab-badge.svg\" alt=\"Open In Colab\"/></a>"
      ]
    },
    {
      "cell_type": "markdown",
      "source": [
        "## **Regulations on the Cloud**\n",
        "\n",
        "---"
      ],
      "metadata": {
        "id": "7l3wDBIIasFX"
      }
    },
    {
      "cell_type": "markdown",
      "source": [
        "Local regulations and laws can significantly impact an organization's cloud infrastructure. These regulations determine how data is processed, stored, and transferred across borders."
      ],
      "metadata": {
        "id": "QnPKJJiNayJi"
      }
    },
    {
      "cell_type": "markdown",
      "source": [
        "***Example: A Social Media Company Expanding Internationally***\n",
        "\n",
        "A fictional social media company based in the US initially operates with a data center in the country. As its user base grows globally, it expands data centers to Europe, South America, Africa, and Asia.\n",
        "\n",
        "Having data centers spread across different regions helps reduce latency. **Latency** refers to the delay between data transmission and reception. **The closer a server is to the user, the lower the latency.** For instance, when an Australian user accesses their account, their request is processed by the nearest server instead of a server in the US or South America.\n",
        "\n",
        "However, storing data outside a user’s home country introduces legal complexities. Different countries have varying regulations regarding data storage and processing. For example:\n",
        "\n",
        "- Australia has regulations on how data should be handled.\n",
        "- The data center in Asia must comply with the region’s regulations.\n",
        "- The company must also follow the laws of its home country."
      ],
      "metadata": {
        "id": "cw0aG83bch8l"
      }
    },
    {
      "cell_type": "markdown",
      "source": [
        "### **General Data Protection Regulation (GDPR)**\n",
        "One of the most well-known data privacy laws is the **General Data Protection Regulation (GDPR)**, which governs how personal data is collected, processed, and stored within the European Union (EU).\n",
        "\n",
        "***Key requirements of GDPR:***\n",
        "\n",
        "- Companies must obtain explicit consent before collecting user data.\n",
        "- Users must be notified of any data breaches in a timely manner.\n",
        "- Personally identifiable information (PII) must be encrypted, anonymized, or pseudonymized when stored.\n",
        "- Personal data cannot leave EU borders unless the same level of protection is guaranteed in the destination country.\n",
        "\n",
        "Non-compliance with GDPR can result in significant penalties, including fines of up to **20 million euros or 4% of a company’s global annual revenue**, whichever is higher."
      ],
      "metadata": {
        "id": "4OmyPGkGdE8O"
      }
    },
    {
      "cell_type": "markdown",
      "source": [
        "### **What is Personal Data?**\n",
        "The European Commission defines **personal data** as any information that can be used to identify a living individual. It is also referred to as **Personally Identifiable Information (PII).** This includes:\n",
        "\n",
        "- **Basic details:** Name, home address, email address\n",
        "- **Digital information:** IP address, location data\n",
        "- **Sensitive data:** Racial/ethnic origin, political opinions, sexual orientation, health-related data\n",
        "\n",
        "Even if individual data points do not identify a person directly, combining them (e.g., location data over time) can make identification possible."
      ],
      "metadata": {
        "id": "9Fp-PpmUdmwi"
      }
    },
    {
      "cell_type": "markdown",
      "source": [
        "### **Other Data Protection Regulations**\n",
        "While GDPR is widely recognized due to its global impact, many countries have established their own data protection laws. Several nations have aligned their regulations with GDPR to facilitate cross-border data transfers.\n",
        "\n",
        "***Some notable data protection laws from different countries include:***\n",
        "\n",
        "- **Brazil:** General Data Protection Law (LGPD)\n",
        "- **United States:** Various state-level regulations, such as the California Consumer Privacy Act (CCPA)\n",
        "- **Japan:** Act on the Protection of Personal Information (APPI)\n",
        "- **Thailand:** Personal Data Protection Act (PDPA)\n",
        "- **Canada:** Personal Information Protection and Electronic Documents Act (PIPEDA)\n",
        "\n",
        "Each country has unique protocols, which influence where companies establish their data centers."
      ],
      "metadata": {
        "id": "eAAiTvdKeJHi"
      }
    }
  ]
}