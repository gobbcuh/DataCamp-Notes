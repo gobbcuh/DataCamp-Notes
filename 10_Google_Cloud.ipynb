{
  "nbformat": 4,
  "nbformat_minor": 0,
  "metadata": {
    "colab": {
      "provenance": [],
      "authorship_tag": "ABX9TyPeXQGonDQ+/oMvGk/T5B7k",
      "include_colab_link": true
    },
    "kernelspec": {
      "name": "python3",
      "display_name": "Python 3"
    },
    "language_info": {
      "name": "python"
    }
  },
  "cells": [
    {
      "cell_type": "markdown",
      "metadata": {
        "id": "view-in-github",
        "colab_type": "text"
      },
      "source": [
        "<a href=\"https://colab.research.google.com/github/gobbcuh/DataCamp-Notes/blob/main/10_Google_Cloud.ipynb\" target=\"_parent\"><img src=\"https://colab.research.google.com/assets/colab-badge.svg\" alt=\"Open In Colab\"/></a>"
      ]
    },
    {
      "cell_type": "markdown",
      "source": [
        "## **Google Cloud**\n",
        "\n",
        "---"
      ],
      "metadata": {
        "id": "hJ7sNR27bJ1W"
      }
    },
    {
      "cell_type": "markdown",
      "source": [
        "### **Google Cloud and Market Position**\n",
        "- **Google Cloud** promotes multi-cloud solutions, allowing customers to use multiple cloud providers.\n",
        "- **Google Cloud Anthos** (launched in 2019) enables hybrid and multi-cloud management across different environments and APIs.\n",
        "- As of 2023, Google Cloud **holds 11% market share**, behind AWS and Microsoft Azure."
      ],
      "metadata": {
        "id": "kbngooembPUT"
      }
    },
    {
      "cell_type": "markdown",
      "source": [
        "### **Google Cloud Services**\n",
        "- **Google Cloud Storage:** Cloud-based file storage.\n",
        "- **Google Cloud Compute Engine:** Provides computing power.\n",
        "- **Google Cloud SQL:** Cloud-based database management.\n",
        "\n",
        "### **Google Cloud Data Services**\n",
        "- **BigQuery:** Data warehousing and large-scale data analysis.\n",
        "- **Dataflow:** Fully managed real-time analytics service.\n",
        "- **AutoML:** Machine learning tools for automation."
      ],
      "metadata": {
        "id": "oAktFkUQconA"
      }
    },
    {
      "cell_type": "markdown",
      "source": [
        "### **Major Google Cloud Customers**\n",
        "- HSBC\n",
        "- PayPal\n",
        "- Vodafone"
      ],
      "metadata": {
        "id": "taI_pUeQc8Ut"
      }
    },
    {
      "cell_type": "markdown",
      "source": [
        "### **Google Cloud Case Study: Lush**\n",
        "**Challenge:**\n",
        "- **Lush**, a cosmetics retailer, struggled with website outages during Boxing Day, the UK’s busiest shopping day.\n",
        "- Their old system could not handle more than 12 transactions per second.\n",
        "- Needed a scalable, stable cloud infrastructure to handle peak traffic.\n",
        "\n",
        "**Solution:**\n",
        "- Migrated entire infrastructure to **Google Cloud**, including:\n",
        "  - Mobile apps\n",
        "  - E-commerce platforms-\n",
        "  - Retail systems-\n",
        "  - Customer and product data\n",
        "- 17 websites were also migrated.\n",
        "- Used **Google Cloud Compute Engine** for fast deployment and testing.\n",
        "- Stored data on **Google Cloud SQL**.\n",
        "\n",
        "**Results:**\n",
        "- No outages on Boxing Day.\n",
        "- 40% reduction in hosting costs.\n",
        "- Leveraged **Google Cloud** for innovation, including:\n",
        "- A customer-facing image recognition app to display product details, reducing the need for packaging."
      ],
      "metadata": {
        "id": "Ul3BU5osdDY3"
      }
    }
  ]
}