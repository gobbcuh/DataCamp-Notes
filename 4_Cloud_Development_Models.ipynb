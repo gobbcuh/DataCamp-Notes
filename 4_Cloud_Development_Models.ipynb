{
  "nbformat": 4,
  "nbformat_minor": 0,
  "metadata": {
    "colab": {
      "provenance": [],
      "authorship_tag": "ABX9TyOidmh9iahlXfpvcsR7xKXE",
      "include_colab_link": true
    },
    "kernelspec": {
      "name": "python3",
      "display_name": "Python 3"
    },
    "language_info": {
      "name": "python"
    }
  },
  "cells": [
    {
      "cell_type": "markdown",
      "metadata": {
        "id": "view-in-github",
        "colab_type": "text"
      },
      "source": [
        "<a href=\"https://colab.research.google.com/github/gobbcuh/DataCamp-Notes/blob/main/4_Cloud_Development_Models.ipynb\" target=\"_parent\"><img src=\"https://colab.research.google.com/assets/colab-badge.svg\" alt=\"Open In Colab\"/></a>"
      ]
    },
    {
      "cell_type": "markdown",
      "source": [
        "## **Cloud Development Models**\n",
        "\n",
        "---"
      ],
      "metadata": {
        "id": "WHgG7jIsWEdP"
      }
    },
    {
      "cell_type": "markdown",
      "source": [
        "**Cloud deployment** models are one of the first considerations when migrating to the cloud. The choice depends on the level of control needed, business requirements, and budget.\n",
        "\n",
        "The most common deployment models are **private, public,** and **hybrid.**"
      ],
      "metadata": {
        "id": "0K_vBCJGWNqm"
      }
    },
    {
      "cell_type": "markdown",
      "source": [
        "### **1. Private Cloud**\n",
        "\n",
        "The private cloud is designed for **exclusive use by its tenants.** Access requires a network link, which must be set up by IT. Organizations can either host the infrastructure themselves or hire a third party.\n",
        "\n",
        "- Provides direct control over resources and data storage.\n",
        "- Allows customization of hardware and operating systems.\n",
        "- Beneficial for organizations with specific security requirements.\n",
        "- Requires higher investment in infrastructure, setup, and maintenance.\n",
        "- Can be hosted on-premises or off-premises but still follows cloud principles like **virtualization**."
      ],
      "metadata": {
        "id": "2UXq3VTmYloO"
      }
    },
    {
      "cell_type": "markdown",
      "source": [
        "### **2. Public Cloud**\n",
        "\n",
        "In a public cloud, infrastructure is **shared and accessible to the general public.** It is owned and managed by providers like **AWS, Azure,** or **Google Cloud.**\n",
        "\n",
        "- Accessible via the Internet with minimal initial investment.\n",
        "- Organizations can scale resources quickly without infrastructure commitments.\n",
        "- Services are chosen based on business needs.\n",
        "- Lacks direct access to data centers or hardware.\n",
        "- Data center locations are kept secret for security reasons."
      ],
      "metadata": {
        "id": "dwmFJ8bhZCqV"
      }
    },
    {
      "cell_type": "markdown",
      "source": [
        "### **3. Hybrid Cloud**\n",
        "\n",
        "A hybrid cloud is a **combination of two or more distinct models** that interact via a network link, allowing data and services to be shared.\n",
        "\n",
        "- Enables storage of sensitive data in a private cloud while using public cloud tools.\n",
        "- Supports **cloud bursting**, where excess demand is transferred from a private to a public cloud.\n",
        "- Helps businesses handle seasonal spikes cost-effectively (e.g., Black Friday traffic surges)."
      ],
      "metadata": {
        "id": "Jwn6IJVmZfkx"
      }
    },
    {
      "cell_type": "markdown",
      "source": [
        "### **Other Deployment Models**\n",
        "\n",
        "**Multicloud:** Uses **multiple cloud providers** (e.g., Azure for backups, AWS for web hosting, Google Cloud for analytics).\n",
        "\n",
        "- Provides flexibility in pricing and services.\n",
        "- Reduces vendor dependency.\n",
        "- Different from hybrid cloud, which combines deployment models, not services.\n",
        "\n",
        "**Community Cloud:** Shared infrastructure for a **specific community** with common interests or concerns.\n",
        "\n",
        "- Useful for organizations with shared security requirements, jurisdiction, or mission.\n",
        "- Supports collaboration and data sharing (e.g., research institutions, government agencies).\n",
        "- Can be hosted internally or externally."
      ],
      "metadata": {
        "id": "jxFUkkB7ZzuZ"
      }
    }
  ]
}