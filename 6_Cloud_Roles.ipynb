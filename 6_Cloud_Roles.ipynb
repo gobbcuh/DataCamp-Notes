{
  "nbformat": 4,
  "nbformat_minor": 0,
  "metadata": {
    "colab": {
      "provenance": [],
      "authorship_tag": "ABX9TyM1D6LTbM+elLDxda2wMNg1",
      "include_colab_link": true
    },
    "kernelspec": {
      "name": "python3",
      "display_name": "Python 3"
    },
    "language_info": {
      "name": "python"
    }
  },
  "cells": [
    {
      "cell_type": "markdown",
      "metadata": {
        "id": "view-in-github",
        "colab_type": "text"
      },
      "source": [
        "<a href=\"https://colab.research.google.com/github/gobbcuh/DataCamp-Notes/blob/main/6_Cloud_Roles.ipynb\" target=\"_parent\"><img src=\"https://colab.research.google.com/assets/colab-badge.svg\" alt=\"Open In Colab\"/></a>"
      ]
    },
    {
      "cell_type": "markdown",
      "source": [
        "## **Cloud Roles**\n",
        "\n",
        "---\n"
      ],
      "metadata": {
        "id": "uQ_V-iK3er3b"
      }
    },
    {
      "cell_type": "markdown",
      "source": [
        "### **Overview**\n",
        "- Cloud computing adoption reduces maintenance and operational costs, including personnel.\n",
        "- The demand for cloud-related skills has significantly increased in the job market."
      ],
      "metadata": {
        "id": "BKHx_6ZGgqoX"
      }
    },
    {
      "cell_type": "markdown",
      "source": [
        "### **Cloud Computing: Most In-Demand Skill**\n",
        "- In February 2020, **Indeed** ranked cloud computing as the most in-demand skill.\n",
        "- **LinkedIn** ranked it as the second most important hard skill after blockchain.\n",
        "- Cloud computing is more in demand than AI and machine learning skills.\n",
        "- Major cloud providers offer certifications for different cloud skills and roles."
      ],
      "metadata": {
        "id": "7WaqF7fEgzzX"
      }
    },
    {
      "cell_type": "markdown",
      "source": [
        "### **Familiar Data Roles and the Cloud**\n",
        "Cloud computing benefits various data roles:\n",
        "- **Data Scientists:** Run computationally expensive analyses efficiently on the cloud.\n",
        "- **Machine Learning Scientists:** Train and deploy ML models, especially deep learning, on the cloud.\n",
        "- **Data Engineers:** Build cloud-based pipelines for big data ingestion, transformation, and storage.\n",
        "- **Data Analysts:** Use BI tools (Tableau, Power BI) to access cloud-stored data.\n",
        "\n",
        "**Cloud-based analyses** improve collaboration by eliminating file transfers."
      ],
      "metadata": {
        "id": "SoH2VFjdhLmS"
      }
    },
    {
      "cell_type": "markdown",
      "source": [
        "### **Creation of New Cloud Roles**\n",
        "Cloud computing has introduced new roles:\n",
        "- Cloud Architect\n",
        "- Cloud Engineer\n",
        "- DevOps Engineer\n",
        "- Security Engineer\n",
        "\n",
        "Some roles overlap in responsibilities."
      ],
      "metadata": {
        "id": "2OEjAIPrh2U0"
      }
    },
    {
      "cell_type": "markdown",
      "source": [
        "### **1. Cloud Architect**\n",
        "- Functions like a solutions architect but for the cloud.\n",
        "- Designs cloud infrastructure based on business requirements.\n",
        "- Ensures scalability and cost optimization.\n",
        "\n",
        "### **2. Cloud Engineer**\n",
        "- Builds, maintains, and monitors cloud services.\n",
        "- Often handles migration from on-premise to cloud.\n",
        "- Sometimes overlaps with cloud architect, especially in smaller companies.\n",
        "\n",
        "### **3. DevOps Engineer**\n",
        "- Merges software development and IT operations.\n",
        "- Previously, system engineers manually configured servers—now done via code.\n",
        "- Ensures reliability, availability, and scalability through automation.\n",
        "\n",
        "  ***Example:*** Automates resource scaling during high usage and patches server failures.\n",
        "\n",
        "### **4. Security Engineer**\n",
        "- Establishes technical security requirements for cloud infrastructure.\n",
        "- Tests and assesses data security in the cloud.\n",
        "- Ensures organization and user data protection."
      ],
      "metadata": {
        "id": "15NWXOZaiE07"
      }
    }
  ]
}