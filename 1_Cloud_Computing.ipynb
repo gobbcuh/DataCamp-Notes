{
  "nbformat": 4,
  "nbformat_minor": 0,
  "metadata": {
    "colab": {
      "provenance": [],
      "authorship_tag": "ABX9TyPqgA/k8UeoL9aUUS8QxwhI",
      "include_colab_link": true
    },
    "kernelspec": {
      "name": "python3",
      "display_name": "Python 3"
    },
    "language_info": {
      "name": "python"
    }
  },
  "cells": [
    {
      "cell_type": "markdown",
      "metadata": {
        "id": "view-in-github",
        "colab_type": "text"
      },
      "source": [
        "<a href=\"https://colab.research.google.com/github/gobbcuh/DataCamp-Notes/blob/main/1_Cloud_Computing.ipynb\" target=\"_parent\"><img src=\"https://colab.research.google.com/assets/colab-badge.svg\" alt=\"Open In Colab\"/></a>"
      ]
    },
    {
      "cell_type": "markdown",
      "source": [],
      "metadata": {
        "id": "vyXtGHCGnyNf"
      }
    },
    {
      "cell_type": "markdown",
      "source": [
        "## **Understanding Cloud Computing**\n",
        "\n",
        "---\n",
        "\n"
      ],
      "metadata": {
        "id": "BkxLwB_gmTbm"
      }
    },
    {
      "cell_type": "markdown",
      "source": [
        "### **Introduction to Cloud Computing**\n",
        "\n",
        "**Key Takeaways:**\n",
        "- **Cloud computing** delivers technology services (computing power, storage, databases, networking) over the internet with a pay-as-you-go model.\n",
        "\n",
        "- Instead of maintaining physical servers, companies rent resources from cloud providers like **AWS, Microsoft Azure, and Google Cloud**.\n",
        "\n",
        "**Rationale:**\n",
        "- More users visit the site → Higher demand on servers.\n",
        "- Traditional servers may **crash** if traffic spikes unexpectedly."
      ],
      "metadata": {
        "id": "4GTW2hbVmdxs"
      }
    },
    {
      "cell_type": "markdown",
      "source": [
        "### **Two Approaches:**\n",
        "\n",
        "**1.** **On-Premise Servers (Traditional Method)**\n",
        "   - Buy and maintain physical servers.\n",
        "   - Expensive if traffic fluctuates.\n",
        "   - Difficult to scale quickly.\n",
        "\n",
        "**2.** **Cloud Hosting**\n",
        "   - No need to own physical servers.\n",
        "   - Can scale up/down instantly based on demand.\n",
        "   - Pay only for what you use (like an electricity bill)."
      ],
      "metadata": {
        "id": "IucdZ395riqS"
      }
    },
    {
      "cell_type": "markdown",
      "source": [
        "### **Pros and Cons:**\n",
        "\n",
        "**Cloud Computing:** Flexible, scalable, quick to set up. Security & cost have improved.\n",
        "\n",
        "**On-Premise Servers:** More control, potentially more secure, but expensive and harder to scale."
      ],
      "metadata": {
        "id": "QZ3reoxssDtK"
      }
    },
    {
      "cell_type": "markdown",
      "source": [
        "### **Applications of Cloud Computing:**\n",
        "- Website hosting\n",
        "- Data storage & backups\n",
        "- AI model training\n",
        "- Video streaming services\n",
        "- Business applications"
      ],
      "metadata": {
        "id": "A_gHyJHOs9t1"
      }
    }
  ]
}