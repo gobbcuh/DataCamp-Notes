{
  "nbformat": 4,
  "nbformat_minor": 0,
  "metadata": {
    "colab": {
      "provenance": [],
      "authorship_tag": "ABX9TyNo6IJunJUxB5ei1llJvSNh",
      "include_colab_link": true
    },
    "kernelspec": {
      "name": "python3",
      "display_name": "Python 3"
    },
    "language_info": {
      "name": "python"
    }
  },
  "cells": [
    {
      "cell_type": "markdown",
      "metadata": {
        "id": "view-in-github",
        "colab_type": "text"
      },
      "source": [
        "<a href=\"https://colab.research.google.com/github/gobbcuh/DataCamp-Notes/blob/main/2_The_Power_of_Cloud_Computing.ipynb\" target=\"_parent\"><img src=\"https://colab.research.google.com/assets/colab-badge.svg\" alt=\"Open In Colab\"/></a>"
      ]
    },
    {
      "cell_type": "markdown",
      "source": [
        "## **The Power of Cloud Computing**\n",
        "\n",
        "---"
      ],
      "metadata": {
        "id": "VkaQgn0Qufx6"
      }
    },
    {
      "cell_type": "markdown",
      "source": [
        "### **Cloud computing**\n",
        "A game-changer for businesses, offering essential services like compute, storage, and databases:\n",
        "\n",
        "**Compute:** Processes workloads, similar to a server hosting a website.\n",
        "\n",
        "**Storage:** Saves files and data.\n",
        "\n",
        "**Databases:** Stores, retrieves, and manages data efficiently.\n",
        "\n",
        "By combining these services, companies can build powerful solutions without needing physical hardware."
      ],
      "metadata": {
        "id": "qXxRNgxZuuK4"
      }
    },
    {
      "cell_type": "markdown",
      "source": [
        "### **Key Benefits of Cloud Computing:**\n",
        "\n",
        "**1. Cost Efficiency**\n",
        "\n",
        "- Cloud providers use **virtualization** to split a physical server into multiple virtual servers, improving efficiency and reducing costs.\n",
        "\n",
        "- **Pay-as-you-go** pricing means businesses only pay for what they need, avoiding large upfront costs for hardware.\n",
        "\n",
        "**2. Scalability**\n",
        "\n",
        "- **Vertical scaling:** Upgrading a machine’s power (more RAM, CPU, etc.).\n",
        "\n",
        "- **Horizontal scaling:** Adding more machines to share the workload.\n",
        "\n",
        "  ***Example:*** An online store on Black Friday can scale resources up automatically to handle traffic spikes.\n",
        "\n",
        "**3. Speed and Performance**\n",
        "\n",
        "- On-demand resources allow businesses to launch apps or services within minutes instead of waiting weeks for hardware setup.\n",
        "\n",
        "- Cloud providers constantly upgrade to the latest, fastest hardware to optimize performance.\n",
        "\n",
        "- Services can be deployed in multiple regions worldwide for a seamless user experience.\n",
        "\n",
        "**4. Reliability**\n",
        "\n",
        "- Cloud providers replicate data across multiple data centers, ensuring data safety even if one center goes down.\n",
        "\n",
        "- Less downtime and fewer outages mean businesses can operate smoothly.\n",
        "\n",
        "**5. Security**\n",
        "\n",
        "- Industries like healthcare, finance, and government require strict security standards.\n",
        "\n",
        "- Many cloud providers meet these regulations, offering both physical and virtual security to protect data."
      ],
      "metadata": {
        "id": "N8MPDk8WwIQ_"
      }
    }
  ]
}