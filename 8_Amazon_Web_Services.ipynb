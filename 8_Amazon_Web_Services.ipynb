{
  "nbformat": 4,
  "nbformat_minor": 0,
  "metadata": {
    "colab": {
      "provenance": [],
      "authorship_tag": "ABX9TyN01BmHLXPyyPCkA8WGMqAQ",
      "include_colab_link": true
    },
    "kernelspec": {
      "name": "python3",
      "display_name": "Python 3"
    },
    "language_info": {
      "name": "python"
    }
  },
  "cells": [
    {
      "cell_type": "markdown",
      "metadata": {
        "id": "view-in-github",
        "colab_type": "text"
      },
      "source": [
        "<a href=\"https://colab.research.google.com/github/gobbcuh/DataCamp-Notes/blob/main/8_Amazon_Web_Services.ipynb\" target=\"_parent\"><img src=\"https://colab.research.google.com/assets/colab-badge.svg\" alt=\"Open In Colab\"/></a>"
      ]
    },
    {
      "cell_type": "markdown",
      "source": [
        "## **Amazon Web Services**\n",
        "\n",
        "---"
      ],
      "metadata": {
        "id": "-bStT4AQVcZu"
      }
    },
    {
      "cell_type": "markdown",
      "source": [
        "### **AWS and Market Position**\n",
        "- **Amazon Web Services (AWS)** launched in 2006, two years before **Google Cloud** and four years before **Microsoft Azure.**\n",
        "\n",
        "- Being the **first mover in the cloud market** gave AWS a strong competitive advantage.\n",
        "\n",
        "- Offers **175+ services** in:\n",
        "  - Computing\n",
        "  - Storage\n",
        "  - Analytics\n",
        "  - Security\n",
        "  - Enterprise applications\n",
        "  - Machine learning\n",
        "\n",
        "- As of 2023, AWS held **31% of the cloud market share,** making it the market leader."
      ],
      "metadata": {
        "id": "176P-jADViwG"
      }
    },
    {
      "cell_type": "markdown",
      "source": [
        "### **AWS Professional Cloud Services**\n",
        "- **Simple Storage Service (S3):** File storage.\n",
        "- **Elastic Compute Cloud (EC2):** Computing power.\n",
        "- **Relational Database Service (RDS):** Database management.\n",
        "\n",
        "### **AWS Professional Data Services**\n",
        "- **Redshift:** Managed, petabyte-scale data warehouse.\n",
        "- **Kinesis:** Real-time data and analytics service.\n",
        "- **SageMaker:** Machine learning platform for predictive analytics."
      ],
      "metadata": {
        "id": "L0Abw0KtXRkI"
      }
    },
    {
      "cell_type": "markdown",
      "source": [
        "### **Major AWS Customers**\n",
        "- Disney\n",
        "- Verizon\n",
        "- Deloitte\n",
        "\n",
        "### **AWS Case Study: NerdWallet**\n",
        "**Challenge:**\n",
        "- **NerdWallet**, a financial advisory company, needed to optimize deployment time and cost.\n",
        "- Their model deployment process was too slow, delaying improvements.\n",
        "\n",
        "**Solution:**\n",
        "- Already using **AWS compute** and container services, **NerdWallet** added **Amazon SageMaker** to:\n",
        "  - Build, train, and deploy models in a single platform.\n",
        "  - Integrate seamlessly with existing AWS infrastructure.\n",
        "  - Reduce development time and costs.\n",
        "\n",
        "**Results:**\n",
        "- Model deployment reduced from months to days.\n",
        "- 75% reduction in training costs with on-demand instances.\n",
        "- Improved data science engineering to stay competitive."
      ],
      "metadata": {
        "id": "MrAUUqjIXqVa"
      }
    }
  ]
}